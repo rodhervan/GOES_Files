{
 "cells": [
  {
   "cell_type": "code",
   "execution_count": 1,
   "metadata": {},
   "outputs": [],
   "source": [
    "import datetime\n",
    "import os\n",
    "import boto3\n",
    "from botocore import UNSIGNED\n",
    "from botocore.config import Config"
   ]
  },
  {
   "cell_type": "code",
   "execution_count": 3,
   "metadata": {},
   "outputs": [],
   "source": [
    "def download_CMI(yyyymmddhhmn, band, path_dest, product_name):\n",
    "\n",
    "  os.makedirs(path_dest, exist_ok=True)\n",
    "\n",
    "  year = datetime.datetime.strptime(yyyymmddhhmn, '%Y%m%d%H%M').strftime('%Y')\n",
    "  day_of_year = datetime.datetime.strptime(yyyymmddhhmn, '%Y%m%d%H%M').strftime('%j')\n",
    "  hour = datetime.datetime.strptime(yyyymmddhhmn, '%Y%m%d%H%M').strftime('%H')\n",
    "  min = datetime.datetime.strptime(yyyymmddhhmn, '%Y%m%d%H%M').strftime('%M')\n",
    "\n",
    "  # AMAZON repository information\n",
    "  # https://noaa-goes16.s3.amazonaws.com/index.html\n",
    "  bucket_name = 'noaa-goes16'\n",
    "  #product_name = 'ABI-L2-CMIPF'\n",
    "\n",
    "  # Initializes the S3 client\n",
    "  s3_client = boto3.client('s3', config=Config(signature_version=UNSIGNED))\n",
    "  #-----------------------------------------------------------------------------------------------------------\n",
    "  # File structure\n",
    "  prefix = f'{product_name}/{year}/{day_of_year}/{hour}/OR_{product_name}-M6C{int(band):02.0f}_G16_s{year}{day_of_year}{hour}{min}'\n",
    "\n",
    "  # Seach for the file on the server\n",
    "  s3_result = s3_client.list_objects_v2(Bucket=bucket_name, Prefix=prefix, Delimiter = \"/\")\n",
    "\n",
    "  #-----------------------------------------------------------------------------------------------------------\n",
    "  # Check if there are files available\n",
    "  if 'Contents' not in s3_result:\n",
    "    # There are no files\n",
    "    print(f'No files found for the date: {yyyymmddhhmn}, Band-{band}')\n",
    "    return -1\n",
    "  else:\n",
    "    # There are files\n",
    "    for obj in s3_result['Contents']:\n",
    "      key = obj['Key']\n",
    "      # Print the file name\n",
    "      file_name = key.split('/')[-1].split('.')[0]\n",
    "\n",
    "      # Download the file\n",
    "      if os.path.exists(f'{path_dest}/{file_name}.nc'):\n",
    "        print(f'File {path_dest}/{file_name}.nc exists')\n",
    "      else:\n",
    "        print(f'Downloading file {path_dest}/{file_name}.nc')\n",
    "        s3_client.download_file(bucket_name, key, f'{path_dest}/{file_name}.nc')\n",
    "  return f'{file_name}'"
   ]
  },
  {
   "cell_type": "code",
   "execution_count": 10,
   "metadata": {},
   "outputs": [
    {
     "name": "stdout",
     "output_type": "stream",
     "text": [
      "Downloading file F:/GOES_Files//OR_ABI-L2-CMIPF-M6C05_G16_s20242482120203_e20242482129511_c20242482129578.nc\n"
     ]
    }
   ],
   "source": [
    "# single file download\n",
    "path_dest = 'F:/GOES_Files/'\n",
    "date_save = '20240904'\n",
    "time_save = '2120'\n",
    "yyyymmddhhmn = date_save + time_save\n",
    "Band = 5\n",
    "file1 = download_CMI(yyyymmddhhmn, Band, path_dest, 'ABI-L2-CMIPF')\n",
    "path = 'content/GOES_Files/' + file1 + '.nc'"
   ]
  },
  {
   "cell_type": "code",
   "execution_count": null,
   "metadata": {},
   "outputs": [],
   "source": [
    "# download complete days between two dates\n",
    "path_dest = 'F:/GOES_Files/'\n",
    "path_dest = 'D:/RODRIGO/IntradayForecasting/content/GOES_Files/ABI_L2_CMIPF'\n",
    "\n",
    "\n",
    "start_date = '20230517'  # Starting date in 'YYYYMMDD' format\n",
    "end_date = '20230517'    # Ending date in 'YYYYMMDD' format\n",
    "Band = 13\n",
    "\n",
    "start_date = datetime.datetime.strptime(start_date, '%Y%m%d')\n",
    "end_date = datetime.datetime.strptime(end_date, '%Y%m%d')\n",
    "\n",
    "current_date = start_date\n",
    "while current_date <= end_date:\n",
    "    date_save = current_date.strftime('%Y%m%d') \n",
    "    for hour in range(0, 24):\n",
    "        for minute in range(0, 60, 10):\n",
    "            time_save = f'{hour:02d}{minute:02d}'\n",
    "            yyyymmddhhmn = date_save + time_save\n",
    "            file1 = download_CMI(yyyymmddhhmn, Band, path_dest, 'ABI-L2-CMIPF')\n",
    "    current_date += datetime.timedelta(days=1)"
   ]
  },
  {
   "cell_type": "code",
   "execution_count": null,
   "metadata": {},
   "outputs": [],
   "source": [
    "# Download hourly data\n",
    "path_dest = 'F:/GOES_Files/GOES_Files_B02'\n",
    "# path_dest = 'D:/RODRIGO/IntradayForecasting/content/GOES_Files/ABI_L2_CMIPF'\n",
    "\n",
    "start_date = '20230501'  # Starting date in 'YYYYMMDD' format\n",
    "end_date = '20230531'    # Ending date in 'YYYYMMDD' format\n",
    "Band = 2\n",
    "\n",
    "start_date = datetime.datetime.strptime(start_date, '%Y%m%d')\n",
    "end_date = datetime.datetime.strptime(end_date, '%Y%m%d')\n",
    "\n",
    "current_date = start_date\n",
    "while current_date <= end_date:\n",
    "    date_save = current_date.strftime('%Y%m%d') \n",
    "    for hour in range(0, 24):\n",
    "        for minute in range(0, 60, 60):  # Change from range(0, 60, 10) to range(0, 60, 60) to iterate every hour\n",
    "            time_save = f'{hour:02d}{minute:02d}'\n",
    "            yyyymmddhhmn = date_save + time_save\n",
    "            file1 = download_CMI(yyyymmddhhmn, Band, path_dest, 'ABI-L2-CMIPF')\n",
    "    current_date += datetime.timedelta(days=1)"
   ]
  }
 ],
 "metadata": {
  "kernelspec": {
   "display_name": "Python 3",
   "language": "python",
   "name": "python3"
  },
  "language_info": {
   "codemirror_mode": {
    "name": "ipython",
    "version": 3
   },
   "file_extension": ".py",
   "mimetype": "text/x-python",
   "name": "python",
   "nbconvert_exporter": "python",
   "pygments_lexer": "ipython3",
   "version": "3.12.4"
  }
 },
 "nbformat": 4,
 "nbformat_minor": 2
}
