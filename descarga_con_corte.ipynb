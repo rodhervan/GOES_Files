{
 "cells": [
  {
   "cell_type": "code",
   "execution_count": null,
   "metadata": {},
   "outputs": [],
   "source": [
    "# Función para generar la ruta de S3 a partir de la fecha y el productodef build_goes17_s3_path(product, satellite, date):     year = date.strftime(\"%Y\")     day_of_year = date.strftime(\"%j\")     hour = date.strftime(\"%H\") file_name = f\"OR_{product}-M6C02_G{satellite}_s{year}{day_of_year}{hour}0000.nc\" s3_path = f\"s3://noaa-goes17/{product}/{year}/{day_of_year}/{hour}/{file_name}\"return s3_path"
   ]
  },
  {
   "cell_type": "code",
   "execution_count": 6,
   "metadata": {},
   "outputs": [
    {
     "name": "stdout",
     "output_type": "stream",
     "text": [
      "Procesando archivo: s3://noaa-goes17/ABI-L2-CMIPF/2023/244/06/OR_ABI-L2-CMIPF-M6C02_G16_s2023244060000.nc\n",
      "Error al procesar s3://noaa-goes17/ABI-L2-CMIPF/2023/244/06/OR_ABI-L2-CMIPF-M6C02_G16_s2023244060000.nc: noaa-goes17/ABI-L2-CMIPF/2023/244/06/OR_ABI-L2-CMIPF-M6C02_G16_s2023244060000.nc\n"
     ]
    }
   ],
   "source": [
    "import xarray as xr\n",
    "import s3fs\n",
    "from datetime import datetime\n",
    "\n",
    "# Función para generar la ruta de S3 a partir de la fecha y el producto\n",
    "def build_goes17_s3_path(product, satellite, date):\n",
    "    year = date.strftime(\"%Y\")\n",
    "    day_of_year = date.strftime(\"%j\")\n",
    "    hour = date.strftime(\"%H\")\n",
    "    \n",
    "    file_name = f\"OR_{product}-M6C02_G{satellite}_s{year}{day_of_year}{hour}0000.nc\"\n",
    "    s3_path = f\"s3://noaa-goes17/{product}/{year}/{day_of_year}/{hour}/{file_name}\"\n",
    "    \n",
    "    return s3_path\n",
    "\n",
    "# Función para recortar los datos de GOES-17 según los límites geográficos\n",
    "def crop_goes17_data(file_path, lat_bnds, lon_bnds):\n",
    "    # Abrir el archivo desde S3 usando s3fs\n",
    "    fs = s3fs.S3FileSystem(anon=True)\n",
    "    ds = xr.open_dataset(fs.open(file_path), engine=\"h5netcdf\")\n",
    "    \n",
    "    # Definir los límites geográficos para el recorte\n",
    "    ds_cropped = ds.sel(lat=slice(lat_bnds[0], lat_bnds[1]), lon=slice(lon_bnds[0], lon_bnds[1]))\n",
    "    \n",
    "    return ds_cropped\n",
    "\n",
    "# Función principal para descargar los recortes de GOES-17\n",
    "def download_goes17_crops(product, satellite, dates, lat_bnds, lon_bnds):\n",
    "    for date in dates:\n",
    "        # Generar la ruta del archivo en S3\n",
    "        s3_path = build_goes17_s3_path(product, satellite, date)\n",
    "        print(f\"Procesando archivo: {s3_path}\")\n",
    "        \n",
    "        try:\n",
    "            # Recortar los datos de la región de interés\n",
    "            ds_cropped = crop_goes17_data(s3_path, lat_bnds, lon_bnds)\n",
    "            \n",
    "            # Guardar el archivo recortado localmente\n",
    "            local_file = f\"GOES17_crop_{date.strftime('%Y%m%d%H')}.nc\"\n",
    "            ds_cropped.to_netcdf(local_file)\n",
    "            print(f\"Archivo recortado guardado como: {local_file}\")\n",
    "        \n",
    "        except Exception as e:\n",
    "            print(f\"Error al procesar {s3_path}: {e}\")\n",
    "\n",
    "# Ejemplo de uso\n",
    "if __name__ == \"__main__\":\n",
    "    # Lista de fechas (puedes agregar más fechas)\n",
    "    dates = [\n",
    "        # datetime(2023, 9, 1, 0, 0),  # Formato: año, mes, día, hora, minuto\n",
    "        # datetime(2024, 9, 1, 3, 0),\n",
    "        datetime(2023, 9, 1, 6, 0)\n",
    "    ]\n",
    "    \n",
    "    # Producto GOES-17 y satélite\n",
    "    product = \"ABI-L2-CMIPF\"\n",
    "    satellite = \"16\"\n",
    "    \n",
    "    # Definir los límites geográficos para Colombia (puedes ajustarlos)\n",
    "    x_lon = 10\n",
    "    x_lat = 10\n",
    "    extent = [-73.722451-x_lon, 9.789103-x_lat, -73.722451+x_lon, 9.789103+x_lat]\n",
    "    lat_bnds, lon_bnds = [extent[1], extent[3]], [extent[0], extent[2]]\n",
    "\n",
    "    # lat_bnds = [min_lat, max_lat]  # Por ejemplo: [min_lat, max_lat] = [12.0, 4.0]\n",
    "    # lon_bnds = [min_lon, max_lon]  # Por ejemplo: [min_lon, max_lon] = [-80.0, -66.0]\n",
    "    \n",
    "    # Descargar y recortar los archivos\n",
    "    download_goes17_crops(product, satellite, dates, lat_bnds, lon_bnds)\n"
   ]
  },
  {
   "cell_type": "code",
   "execution_count": 10,
   "metadata": {},
   "outputs": [
    {
     "data": {
      "text/plain": [
       "'s3://noaa-goes17/ABI-L2-CMIPF/2023/244/06/OR_ABI-L2-CMIPF-M6C02_G17_s2023244060000.nc'"
      ]
     },
     "execution_count": 10,
     "metadata": {},
     "output_type": "execute_result"
    }
   ],
   "source": [
    "date = datetime(2023, 9, 1, 6, 0)\n",
    "satellite = \"17\"\n",
    "product = \"ABI-L2-CMIPF\"\n",
    "s3_path = build_goes17_s3_path(product, satellite, date)\n",
    "s3_path"
   ]
  },
  {
   "cell_type": "code",
   "execution_count": 12,
   "metadata": {},
   "outputs": [],
   "source": [
    "import datetime\n",
    "import os\n",
    "import boto3\n",
    "from botocore import UNSIGNED\n",
    "from botocore.config import Config\n",
    "import xarray as xr\n",
    "import s3fs\n",
    "from dask import delayed\n",
    "# from datetime import datetime\n",
    "\n",
    "# path_dest = 'F:/GOES_Files/'\n",
    "path_dest =  'D:/RODRIGO/IntradayForecasting/content/GOES_Files/CMIPF_sliced_resized/'\n",
    "date_save = '20240904'\n",
    "time_save = '1520'\n",
    "band = 5\n",
    "product_name = 'ABI-L2-CMIPF'\n",
    "bucket_name = 'noaa-goes16'\n",
    "\n",
    "def download_goes_slcrz(path_dest, date_save, time_save, product_name, band, bucket_name ='noaa-goes16', target_x_res = 300, target_y_res = 300):\n",
    "\n",
    "    yyyymmddhhmn = date_save + time_save\n",
    "    os.makedirs(path_dest, exist_ok=True)\n",
    "\n",
    "    year = datetime.datetime.strptime(yyyymmddhhmn, '%Y%m%d%H%M').strftime('%Y')\n",
    "    day_of_year = datetime.datetime.strptime(yyyymmddhhmn, '%Y%m%d%H%M').strftime('%j')\n",
    "    hour = datetime.datetime.strptime(yyyymmddhhmn, '%Y%m%d%H%M').strftime('%H')\n",
    "    min = datetime.datetime.strptime(yyyymmddhhmn, '%Y%m%d%H%M').strftime('%M')\n",
    "\n",
    "    # AMAZON repository information\n",
    "    # https://noaa-goes16.s3.amazonaws.com/index.html\n",
    "\n",
    "    #product_name = 'ABI-L2-CMIPF'\n",
    "\n",
    "    # Initializes the S3 client\n",
    "    s3_client = boto3.client('s3', config=Config(signature_version=UNSIGNED))\n",
    "    #-----------------------------------------------------------------------------------------------------------\n",
    "    # File structure\n",
    "    prefix = f'{product_name}/{year}/{day_of_year}/{hour}/OR_{product_name}-M6C{int(band):02.0f}_G16_s{year}{day_of_year}{hour}{min}'\n",
    "\n",
    "    # Seach for the file on the server\n",
    "    s3_result = s3_client.list_objects_v2(Bucket=bucket_name, Prefix=prefix, Delimiter = \"/\")\n",
    "\n",
    "    for obj in s3_result['Contents']:\n",
    "        key = obj['Key']\n",
    "        file_name = key.split('/')[-1].split('.')[0]\n",
    "    if os.path.exists(f'{path_dest}/{file_name}.nc'):\n",
    "        print(f'File {path_dest}/{file_name}.nc exists')\n",
    "    else:\n",
    "        file_path = f's3://{bucket_name}/{key}'\n",
    "\n",
    "        # Abrir el archivo desde S3 usando s3fs\n",
    "        fs = s3fs.S3FileSystem(anon=True)\n",
    "        ds = xr.open_dataset(fs.open(file_path), engine=\"h5netcdf\")\n",
    "\n",
    "        # Definir los límites geográficos para el recorte\n",
    "        ds_sel = delayed(ds.sel)(x=slice(-0.05, 0.07), y=slice(0.09, -0.03))\n",
    "        original_x_size = delayed(ds_sel.dims['x'])\n",
    "        original_y_size = delayed(ds_sel.dims['y'])\n",
    "        scale_factor_x = delayed(lambda ox: max(ox // target_x_res, 1))(original_x_size)\n",
    "        scale_factor_y = delayed(lambda oy: max(oy // target_y_res, 1))(original_y_size)\n",
    "\n",
    "        # Apply the downscaling factor to each image\n",
    "        ds_downscaled = delayed(ds_sel.coarsen)(x=scale_factor_x, y=scale_factor_y, boundary=\"trim\").mean()\n",
    "\n",
    "        print(f'Downloading file {path_dest}/{file_name}.nc')\n",
    "        output_path = f'{path_dest}/{file_name}.nc'\n",
    "        downscaled = ds_downscaled.compute()\n",
    "        downscaled.to_netcdf(output_path)"
   ]
  },
  {
   "cell_type": "code",
   "execution_count": 13,
   "metadata": {},
   "outputs": [
    {
     "name": "stdout",
     "output_type": "stream",
     "text": [
      "Downloading file D:/RODRIGO/IntradayForecasting/content/GOES_Files/CMIPF_sliced_resized//OR_ABI-L2-CMIPF-M6C05_G16_s20242481520205_e20242481529513_c20242481529574.nc\n"
     ]
    },
    {
     "name": "stderr",
     "output_type": "stream",
     "text": [
      "d:\\RODRIGO\\IntradayForecasting\\Condashboard\\Lib\\site-packages\\dask\\core.py:127: FutureWarning: The return type of `Dataset.dims` will be changed to return a set of dimension names in future, in order to be more consistent with `DataArray.dims`. To access a mapping from dimension names to lengths, please use `Dataset.sizes`.\n",
      "  return func(*(_execute_task(a, cache) for a in args))\n"
     ]
    },
    {
     "name": "stderr",
     "output_type": "stream",
     "text": [
      "C:\\Users\\rodhe\\AppData\\Local\\Temp\\ipykernel_6832\\3964174017.py:8: SerializationWarning: saving variable y with floating point data as an integer dtype without any _FillValue to use for NaNs\n",
      "  download_goes_slcrz(path_dest, date_save, time_save, product_name, band)\n",
      "C:\\Users\\rodhe\\AppData\\Local\\Temp\\ipykernel_6832\\3964174017.py:8: SerializationWarning: saving variable x with floating point data as an integer dtype without any _FillValue to use for NaNs\n",
      "  download_goes_slcrz(path_dest, date_save, time_save, product_name, band)\n"
     ]
    }
   ],
   "source": [
    "path_dest =  'D:/RODRIGO/IntradayForecasting/content/GOES_Files/CMIPF_sliced_resized/'\n",
    "date_save = '20240904'\n",
    "time_save = '1520'\n",
    "band = 5\n",
    "product_name = 'ABI-L2-CMIPF'\n",
    "# bucket_name = 'noaa-goes16'\n",
    "\n",
    "download_goes_slcrz(path_dest, date_save, time_save, product_name, band)"
   ]
  }
 ],
 "metadata": {
  "kernelspec": {
   "display_name": "Python 3",
   "language": "python",
   "name": "python3"
  },
  "language_info": {
   "codemirror_mode": {
    "name": "ipython",
    "version": 3
   },
   "file_extension": ".py",
   "mimetype": "text/x-python",
   "name": "python",
   "nbconvert_exporter": "python",
   "pygments_lexer": "ipython3",
   "version": "3.12.4"
  }
 },
 "nbformat": 4,
 "nbformat_minor": 2
}
